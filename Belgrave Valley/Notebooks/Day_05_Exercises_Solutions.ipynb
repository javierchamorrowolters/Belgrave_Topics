{
 "cells": [
  {
   "cell_type": "markdown",
   "metadata": {
    "colab_type": "text",
    "heading_collapsed": true,
    "id": "FfjtpBwxfWj9"
   },
   "source": [
    "<img src=\"https://user-images.strikinglycdn.com/res/hrscywv4p/image/upload/c_limit,fl_lossy,h_300,w_300,f_auto,q_auto/1266110/Logo_wzxi0f.png\" style=\"float: left; margin: 20px; height: 55px\">\n",
    "\n",
    "# Day 5 - Exercises Solutions"
   ]
  },
  {
   "cell_type": "markdown",
   "metadata": {
    "colab_type": "text",
    "heading_collapsed": true,
    "hidden": true,
    "id": "JD92sjiIfWj_"
   },
   "source": [
    "## Pearson Correlation Coeficient"
   ]
  },
  {
   "cell_type": "markdown",
   "metadata": {
    "colab_type": "text",
    "hidden": true,
    "id": "kF5ZkGHsfWkA"
   },
   "source": [
    "In this problem you will be defining a function that calculates the **pearson correlation coefficient** between two lists of numbers.\n",
    "\n",
    "Your function should:\n",
    "\n",
    "- Accept two arguments that are the provided lists ```X``` and ```Y```.\n",
    "- Print the length of ```X``` and ```Y``` using the ```len()``` function, like so:\n",
    "    ```python\n",
    "    Length of X: 40\n",
    "    Length of Y: 40\n",
    "    ```\n",
    "- Calculate the **pearson correlation** between the two lists and assign the value to variable ```pearson_r```.\n",
    "    - Create a variable ```X_deviation``` that is each element of ```X``` minus the **mean** of ```X```. You can use ```np.mean()``` to calculate the mean.\n",
    "    - Create a variable ```Y_deviation``` that is each element of ```Y``` minus the **mean** of ```Y```.\n",
    "    - Create a variable ```sqrt_X_deviation_sq``` that is the **square root** of the **sum** of the **square** of each element of ```X_deviation```. Ive partially completed it below, for clarification:\n",
    "        ```python\n",
    "        sqrt_X_deviation_sq = np.sqrt(np.sum(\"each element of X_deviation squared\"))\n",
    "        ```\n",
    "    - Create a variable ```sqrt_Y_deviation_sq``` that is the same thing you just did for ```X_deviation``` but for ```Y_deviation```.\n",
    "    - Create a variable ```sum_XY_deviation``` that is the **sum** of each element of X and Y multiplied by each other, in order. You can use the ```zip()``` function to iterate through two lists at the same time:\n",
    "        ```python\n",
    "        for x_d, y_d in zip(X_deviation, Y_deviation):\n",
    "        ```\n",
    "    - ```pearson_r``` is equal to ```sum_XY_deviation``` divided by ```(sqrt_X_deviation_sq * sqrt_Y_deviation_sq)```\n",
    "- Print ```pearson_r```\n",
    "- Check if it is the same as numpys correlation function. Print ```np.corrcoef(X, Y)[0,1]```"
   ]
  },
  {
   "cell_type": "code",
   "execution_count": 0,
   "metadata": {
    "ExecuteTime": {
     "end_time": "2019-09-16T09:30:45.867193Z",
     "start_time": "2019-09-16T09:30:44.476486Z"
    },
    "colab": {},
    "colab_type": "code",
    "hidden": true,
    "id": "t7472Uv2fWkB"
   },
   "outputs": [],
   "source": [
    "import numpy as np\n",
    "\n",
    "X = [14.2,5.8,4.8,12.7,5.6,-1.2,5.3,11.9,4.8,8.1,1.5,8.5,14.9,6.1,\n",
    "     6.8,12.6,15.5,24.3,15.6,16.8,22.3,22.6,26.2,19.0,24.3,26.3,\n",
    "     25.3,31.6,27.3,33.0,32.6,30.7,29.6,34.7,32.7,43.1,40.1,35.4,49.6,38.6]\n",
    "\n",
    "Y = [-15.5,-8.5,0.8,-3.9,4.9,12.7,10.0,16.5,5.7,13.1,10.3,12.4,-1.5,\n",
    "     1.7,26.0,14.3,30.3,21.7,27.5,38.2,18.9,21.2,18.2,26.1,14.7,16.4,\n",
    "     22.8,34.3,37.1,38.9,39.1,33.8,52.2,36.5,20.7,21.6,14.5,33.6,44.5,44.2]\n"
   ]
  },
  {
   "cell_type": "code",
   "execution_count": 0,
   "metadata": {
    "ExecuteTime": {
     "end_time": "2019-09-16T09:31:01.711173Z",
     "start_time": "2019-09-16T09:31:01.697506Z"
    },
    "colab": {},
    "colab_type": "code",
    "hidden": true,
    "id": "GKHa6esUfWkE"
   },
   "outputs": [],
   "source": [
    "# Define your pearson correlation function here:\n",
    "def corr_func(list1,list2):\n",
    "    print('Length of X: ' + str(len(list1)))\n",
    "    print('Length of Y: '+ str(len(list2)))\n",
    "    \n",
    "    meanx= np.mean(list1)\n",
    "    meany = np.mean(list2)\n",
    "    \n",
    "    x_deviation = []\n",
    "    y_deviation = []\n",
    "    for i,j in zip(list1,list2):\n",
    "        x_deviation.append(i-meanx)\n",
    "        y_deviation.append(j-meany)\n",
    "    \n",
    "    list_x_each = []\n",
    "    for i in x_deviation:\n",
    "        list_x_each.append(i**2)\n",
    "        sqrt_X_deviation_sq = np.sqrt(np.sum(list_x_each))\n",
    "    \n",
    "    list_y_each = []\n",
    "    for j in y_deviation:\n",
    "        list_y_each.append(j**2)\n",
    "        sqrt_Y_deviation_sq = np.sqrt(np.sum(list_y_each))\n",
    "        \n",
    "    lista_sum = []    \n",
    "    for i,j in zip(x_deviation,y_deviation):\n",
    "        lista_sum.append(i*j)\n",
    "    sum_XY_deviation = sum(lista_sum)\n",
    "        \n",
    "    \n",
    "    pearson_r = sum_XY_deviation /(sqrt_X_deviation_sq * sqrt_Y_deviation_sq)\n",
    "    \n",
    "    return pearson_r"
   ]
  },
  {
   "cell_type": "code",
   "execution_count": 0,
   "metadata": {
    "ExecuteTime": {
     "end_time": "2019-09-16T09:31:02.500518Z",
     "start_time": "2019-09-16T09:31:02.494865Z"
    },
    "colab": {},
    "colab_type": "code",
    "hidden": true,
    "id": "LZa9YesVfWkH",
    "outputId": "7c9e3169-62bf-4961-c3f3-1274d7502229"
   },
   "outputs": [
    {
     "data": {
      "text/plain": [
       "0.6599905230062457"
      ]
     },
     "execution_count": 6,
     "metadata": {
      "tags": []
     },
     "output_type": "execute_result"
    }
   ],
   "source": [
    "np.corrcoef(X,Y)[0,1]"
   ]
  },
  {
   "cell_type": "code",
   "execution_count": 0,
   "metadata": {
    "ExecuteTime": {
     "end_time": "2019-09-16T09:31:02.810709Z",
     "start_time": "2019-09-16T09:31:02.799143Z"
    },
    "colab": {},
    "colab_type": "code",
    "hidden": true,
    "id": "YP41x0sIfWkM",
    "outputId": "d8ef81b2-95c1-415a-e89c-28347a716952"
   },
   "outputs": [
    {
     "name": "stdout",
     "output_type": "stream",
     "text": [
      "Length of X: 40\n",
      "Length of Y: 40\n"
     ]
    },
    {
     "data": {
      "text/plain": [
       "0.6599905230062456"
      ]
     },
     "execution_count": 7,
     "metadata": {
      "tags": []
     },
     "output_type": "execute_result"
    }
   ],
   "source": [
    "corr_func(X,Y)"
   ]
  },
  {
   "cell_type": "markdown",
   "metadata": {
    "colab_type": "text",
    "heading_collapsed": true,
    "hidden": true,
    "id": "AAHNWYqsfWkP"
   },
   "source": [
    "## Arrays and Matrices"
   ]
  },
  {
   "cell_type": "markdown",
   "metadata": {
    "colab_type": "text",
    "heading_collapsed": true,
    "hidden": true,
    "id": "G-3Ser-ufWkQ"
   },
   "source": [
    "### Vector Operations "
   ]
  },
  {
   "cell_type": "markdown",
   "metadata": {
    "colab_type": "text",
    "hidden": true,
    "id": "53oe2xHffWkR"
   },
   "source": [
    "For the following exercises use either tuples or lists for vectors. With the rules from above,\n",
    "\n",
    "* think for a moment how addition, subtraction, and multiplication of a vector with a number work.\n",
    "* write a function that adds two vectors to each other\n",
    "* write a function that subtracts two vectors from each other\n",
    "* write a function that multiplies a vector by a number\n",
    "* write a function that calculates the length of a vector\n",
    "* write a function that calculates the scalar product of two vectors\n",
    "\n",
    "* Using the vectors $vec_1$, $vec_2$\n",
    "    * calculate $3\\cdot vec_1 + 2\\cdot vec_2$\n",
    "    * calculate $-0.5\\cdot vec_1 + 3\\cdot vec_2$\n",
    "    * obtain the lenghts of the vectors $vec_1$, $vec_2$\n",
    "    * obtain the scalar product of the vectors $vec_1$, $vec_2$"
   ]
  },
  {
   "cell_type": "code",
   "execution_count": 2,
   "metadata": {
    "ExecuteTime": {
     "end_time": "2019-09-16T09:39:27.608295Z",
     "start_time": "2019-09-16T09:39:27.604437Z"
    },
    "colab": {},
    "colab_type": "code",
    "hidden": true,
    "id": "f94j8NVffWkS"
   },
   "outputs": [],
   "source": [
    "vec_1 = [2, 4, 1]\n",
    "vec_2 = [1, 3, 0]"
   ]
  },
  {
   "cell_type": "code",
   "execution_count": 0,
   "metadata": {
    "ExecuteTime": {
     "end_time": "2019-09-16T09:39:28.173852Z",
     "start_time": "2019-09-16T09:39:28.163684Z"
    },
    "colab": {},
    "colab_type": "code",
    "hidden": true,
    "id": "zBQSfxPGfWkV"
   },
   "outputs": [],
   "source": [
    "def vec_add(vec_1,vec_2):\n",
    "    vec_sum = [sum(comp) for comp in zip(vec_1,vec_2)]\n",
    "    return vec_sum\n",
    "def vec_sub(vec_1,vec_2):\n",
    "    vec_sub = [(comp[0]-comp[1]) for comp in zip(vec_1,vec_2)]\n",
    "    return vec_sub\n",
    "def vec_mult(vec,mult=1):\n",
    "    return [mult*v for v in vec]\n",
    "def vec_len(vec):\n",
    "    vec_len = sum(comp**2 for comp in vec)**0.5\n",
    "    return vec_len\n",
    "def vec_dot(vec_1,vec_2):\n",
    "    vec_dot = sum((comp[0]*comp[1]) for comp in zip(vec_1,vec_2))\n",
    "    return vec_dot"
   ]
  },
  {
   "cell_type": "code",
   "execution_count": 0,
   "metadata": {
    "ExecuteTime": {
     "end_time": "2019-09-16T09:40:20.986535Z",
     "start_time": "2019-09-16T09:40:20.976176Z"
    },
    "colab": {},
    "colab_type": "code",
    "hidden": true,
    "id": "UlnWS0OAfWkY",
    "outputId": "32483d29-7e58-48ad-f658-f5a6f0623033"
   },
   "outputs": [
    {
     "name": "stdout",
     "output_type": "stream",
     "text": [
      "vec_1 + vec_2: [3, 7, 1]\n",
      "vec_1 - vec_2: [1, 1, 1]\n",
      "3*vec_1: [6, 12, 3]\n",
      "|vec_1|: 4.58257569495584\n",
      "|vec_2|: 3.1622776601683795\n",
      "|vec_1 times vec_2| 14\n"
     ]
    }
   ],
   "source": [
    "print('vec_1 + vec_2:', vec_add(vec_1,vec_2))\n",
    "print('vec_1 - vec_2:', vec_sub(vec_1,vec_2))\n",
    "print('3*vec_1:', vec_mult(vec_1,3))\n",
    "print('|vec_1|:', vec_len(vec_1))\n",
    "print('|vec_2|:', vec_len(vec_2))\n",
    "print('|vec_1 times vec_2|', vec_dot(vec_1,vec_2))"
   ]
  },
  {
   "cell_type": "code",
   "execution_count": 1,
   "metadata": {
    "ExecuteTime": {
     "end_time": "2019-09-16T09:40:59.179544Z",
     "start_time": "2019-09-16T09:40:59.172515Z"
    },
    "colab": {},
    "colab_type": "code",
    "hidden": true,
    "id": "VAdB_gPWfWkb",
    "outputId": "b2b1faa1-9701-484f-e853-668854a57ea3"
   },
   "outputs": [
    {
     "ename": "NameError",
     "evalue": "name 'vec_1' is not defined",
     "output_type": "error",
     "traceback": [
      "\u001b[0;31m---------------------------------------------------------------------------\u001b[0m",
      "\u001b[0;31mNameError\u001b[0m                                 Traceback (most recent call last)",
      "\u001b[0;32m/var/folders/x5/c_gzdbcx3cq5rrz54srqf47c0000gn/T/ipykernel_25269/1649739496.py\u001b[0m in \u001b[0;36m<module>\u001b[0;34m\u001b[0m\n\u001b[1;32m      1\u001b[0m print('3 vec_1 + 2 vec_2:',\n\u001b[0;32m----> 2\u001b[0;31m     [(3*comp[0]+2*comp[1]) for comp in zip(vec_1,vec_2)])\n\u001b[0m\u001b[1;32m      3\u001b[0m print('-0.5 vec_1 + 3 vec_2:',\n\u001b[1;32m      4\u001b[0m     [(-0.5*comp[0]+3*comp[1]) for comp in zip(vec_1,vec_2)])\n",
      "\u001b[0;31mNameError\u001b[0m: name 'vec_1' is not defined"
     ]
    }
   ],
   "source": [
    "print('3 vec_1 + 2 vec_2:',\n",
    "    [(3*comp[0]+2*comp[1]) for comp in zip(vec_1,vec_2)])\n",
    "print('-0.5 vec_1 + 3 vec_2:',\n",
    "    [(-0.5*comp[0]+3*comp[1]) for comp in zip(vec_1,vec_2)])"
   ]
  },
  {
   "cell_type": "code",
   "execution_count": 0,
   "metadata": {
    "ExecuteTime": {
     "end_time": "2019-09-16T09:41:29.315859Z",
     "start_time": "2019-09-16T09:41:29.307093Z"
    },
    "colab": {},
    "colab_type": "code",
    "hidden": true,
    "id": "PIM2yNO7fWkf",
    "outputId": "57eb82c7-b5be-4036-d806-b43bbde5f147"
   },
   "outputs": [
    {
     "name": "stdout",
     "output_type": "stream",
     "text": [
      "3 vec_1 + 2 vec_2: [8, 18, 3]\n",
      "-0.5 vec_1 + 3 vec_2: [2.0, 7.0, -0.5]\n"
     ]
    }
   ],
   "source": [
    "print('3 vec_1 + 2 vec_2:', \n",
    "      vec_add(vec_mult(vec_1,3),vec_mult(vec_2,2)))\n",
    "print('-0.5 vec_1 + 3 vec_2:',\n",
    "      vec_add(vec_mult(vec_1,-0.5),vec_mult(vec_2,3)))"
   ]
  },
  {
   "cell_type": "markdown",
   "metadata": {
    "colab_type": "text",
    "heading_collapsed": true,
    "hidden": true,
    "id": "zMh9gtDifWkj"
   },
   "source": [
    "### Matrix Multiplication"
   ]
  },
  {
   "cell_type": "markdown",
   "metadata": {
    "colab_type": "text",
    "hidden": true,
    "id": "oJEz1OyTfWkk"
   },
   "source": [
    "For the following exercises use either tuples or lists for vectors and matrices. With the rules from above,\n",
    "\n",
    "* write a function that returns the rows of a matrix\n",
    "* write a function that returns the columns of a matrix\n",
    "* write a function that multiplies a matrix with a vector\n",
    "* write a function that multiplies a matrix with a matrix\n",
    "* check that with your functions you fulfill $B\\cdot(A\\cdot x) = (B\\cdot A)\\cdot x$ \n",
    "* write a function which exchanges each component $A_{ij}$ of a matrix $A$ with the component $A_{ji}$. The resulting matrix is called the transpose of A denoted as $A^T$.\n",
    "\n",
    "Verify your results with the examples from the lesson."
   ]
  },
  {
   "cell_type": "code",
   "execution_count": 0,
   "metadata": {
    "ExecuteTime": {
     "end_time": "2019-09-16T09:42:13.545285Z",
     "start_time": "2019-09-16T09:42:13.542514Z"
    },
    "colab": {},
    "colab_type": "code",
    "hidden": true,
    "id": "Xe8VtG-4fWkl"
   },
   "outputs": [],
   "source": [
    "A = [[2,1],[-2,3]]"
   ]
  },
  {
   "cell_type": "code",
   "execution_count": 0,
   "metadata": {
    "ExecuteTime": {
     "end_time": "2019-09-16T09:42:13.823453Z",
     "start_time": "2019-09-16T09:42:13.819719Z"
    },
    "colab": {},
    "colab_type": "code",
    "hidden": true,
    "id": "4ee4fA6NfWko"
   },
   "outputs": [],
   "source": [
    "A_mat = [[1,3,4],[0,1,2],[1,0,0]]\n",
    "B_mat = [[2,3,0],[0,1,4],[1,0,1]]"
   ]
  },
  {
   "cell_type": "code",
   "execution_count": 0,
   "metadata": {
    "ExecuteTime": {
     "end_time": "2019-09-16T09:42:14.624915Z",
     "start_time": "2019-09-16T09:42:14.616397Z"
    },
    "colab": {},
    "colab_type": "code",
    "hidden": true,
    "id": "3Oao63kBfWkr"
   },
   "outputs": [],
   "source": [
    "def matrix_rows(A):\n",
    "    rows = []\n",
    "    for k in range(len(A)):\n",
    "         rows.append([A[k][i] for i in range(len(A[0]))])\n",
    "    return rows\n",
    "def matrix_columns(A):\n",
    "    columns = []\n",
    "    for k in range(len(A[0])):\n",
    "         columns.append([A[i][k] for i in range(len(A))])\n",
    "    return columns"
   ]
  },
  {
   "cell_type": "code",
   "execution_count": 0,
   "metadata": {
    "ExecuteTime": {
     "end_time": "2019-09-16T09:42:26.816525Z",
     "start_time": "2019-09-16T09:42:26.809530Z"
    },
    "colab": {},
    "colab_type": "code",
    "hidden": true,
    "id": "EJVErFJ7fWkt",
    "outputId": "ee0f7d1a-078e-4143-e4a3-47942c943ba5"
   },
   "outputs": [
    {
     "name": "stdout",
     "output_type": "stream",
     "text": [
      "[2, 1]\n",
      "[-2, 3]\n",
      "[2, -2]\n",
      "[1, 3]\n"
     ]
    }
   ],
   "source": [
    "for row in matrix_rows(A):\n",
    "    print(row)\n",
    "for col in matrix_columns(A):\n",
    "    print(col)"
   ]
  },
  {
   "cell_type": "code",
   "execution_count": 0,
   "metadata": {
    "ExecuteTime": {
     "end_time": "2019-09-16T09:42:32.326128Z",
     "start_time": "2019-09-16T09:42:32.314239Z"
    },
    "colab": {},
    "colab_type": "code",
    "hidden": true,
    "id": "DOhzgmFPfWkw"
   },
   "outputs": [],
   "source": [
    "def mat_vec_dot(A,vec):\n",
    "    vec_temp = [vec_dot(row,vec) for row in matrix_rows(A)]\n",
    "    return vec_temp\n",
    "\n",
    "def mat_mat_dot(A,B):\n",
    "    prod = [[vec_dot(row,column) for column in matrix_columns(B)] for row in matrix_rows(A)]\n",
    "    return prod\n",
    "\n",
    "def mat_transpose(A):\n",
    "    C = []\n",
    "    for i in range(len(A)):\n",
    "        vec_temp = []\n",
    "        for j in range(len(A)):\n",
    "            vec_temp.append(A[j][i])\n",
    "        C.append(vec_temp)\n",
    "    return C"
   ]
  },
  {
   "cell_type": "code",
   "execution_count": 0,
   "metadata": {
    "ExecuteTime": {
     "end_time": "2019-09-16T09:43:48.754897Z",
     "start_time": "2019-09-16T09:43:48.743917Z"
    },
    "colab": {},
    "colab_type": "code",
    "hidden": true,
    "id": "a7Qzjlp2fWkz",
    "outputId": "78de9305-057e-420e-b2ff-afe3f1164d1e"
   },
   "outputs": [
    {
     "name": "stdout",
     "output_type": "stream",
     "text": [
      "Matrix-vector product:\n",
      "[18, 6, 2]\n",
      "Matrix-matrix product:\n",
      "[[6, 6, 16], [2, 1, 6], [2, 3, 0]]\n",
      "Note that the order matters:\n",
      "[[2, 9, 14], [4, 1, 2], [2, 3, 4]]\n",
      "Verifying B (A x):\n",
      "[54, 14, 20]\n",
      "Verifying (B A) x:\n",
      "[54, 14, 20]\n",
      "Verifying B (A x) - (B A) x:\n",
      "[0, 0, 0]\n",
      "The matrix B_mat:\n",
      "[[2, 3, 0], [0, 1, 4], [1, 0, 1]]\n",
      "The transpose of B_mat:\n",
      "[[2, 0, 1], [3, 1, 0], [0, 4, 1]]\n"
     ]
    }
   ],
   "source": [
    "print(\"Matrix-vector product:\")\n",
    "print(mat_vec_dot(A_mat,vec_1))\n",
    "print(\"Matrix-matrix product:\")\n",
    "print(mat_mat_dot(A_mat,B_mat))\n",
    "print(\"Note that the order matters:\")\n",
    "print(mat_mat_dot(B_mat,A_mat))\n",
    "print(\"Verifying B (A x):\")\n",
    "print(mat_vec_dot(mat_mat_dot(B_mat,A_mat),vec_1))\n",
    "print(\"Verifying (B A) x:\")\n",
    "print(mat_vec_dot(B_mat,mat_vec_dot(A_mat,vec_1)))\n",
    "print(\"Verifying B (A x) - (B A) x:\")\n",
    "print(vec_sub(mat_vec_dot(mat_mat_dot(B_mat,A_mat),vec_1),mat_vec_dot(B_mat,mat_vec_dot(A_mat,vec_1))))\n",
    "print(\"The matrix B_mat:\")\n",
    "print(B_mat)\n",
    "print(\"The transpose of B_mat:\")\n",
    "print(mat_transpose(B_mat))"
   ]
  }
 ],
 "metadata": {
  "colab": {
   "collapsed_sections": [
    "JD92sjiIfWj_",
    "AAHNWYqsfWkP",
    "G-3Ser-ufWkQ",
    "zMh9gtDifWkj"
   ],
   "name": "Day 5 - Exercises Solutions.ipynb",
   "provenance": [],
   "version": "0.3.2"
  },
  "kernelspec": {
   "display_name": "Python 3 (ipykernel)",
   "language": "python",
   "name": "python3"
  },
  "language_info": {
   "codemirror_mode": {
    "name": "ipython",
    "version": 3
   },
   "file_extension": ".py",
   "mimetype": "text/x-python",
   "name": "python",
   "nbconvert_exporter": "python",
   "pygments_lexer": "ipython3",
   "version": "3.9.7"
  },
  "toc": {
   "base_numbering": 1,
   "nav_menu": {},
   "number_sections": false,
   "sideBar": true,
   "skip_h1_title": false,
   "title_cell": "Index",
   "title_sidebar": "Contents",
   "toc_cell": false,
   "toc_position": {
    "height": "calc(100% - 180px)",
    "left": "10px",
    "top": "150px",
    "width": "165px"
   },
   "toc_section_display": true,
   "toc_window_display": false
  }
 },
 "nbformat": 4,
 "nbformat_minor": 1
}
