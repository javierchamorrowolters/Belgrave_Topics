{
 "cells": [
  {
   "cell_type": "markdown",
   "metadata": {
    "Collapsed": "false",
    "colab_type": "text",
    "id": "0kK5h4UHyLDh"
   },
   "source": [
    "<img src=\"https://user-images.strikinglycdn.com/res/hrscywv4p/image/upload/c_limit,fl_lossy,h_300,w_300,f_auto,q_auto/1266110/Logo_wzxi0f.png\" style=\"float: left; margin: 20px; height: 55px\">"
   ]
  },
  {
   "cell_type": "markdown",
   "metadata": {},
   "source": [
    "# 1. Strings"
   ]
  },
  {
   "cell_type": "markdown",
   "metadata": {},
   "source": [
    "##### 1. assign your name to a variable called name"
   ]
  },
  {
   "cell_type": "code",
   "execution_count": 57,
   "metadata": {},
   "outputs": [],
   "source": [
    "name = \"javi\""
   ]
  },
  {
   "cell_type": "markdown",
   "metadata": {},
   "source": [
    "##### 2. get the first letter of your name"
   ]
  },
  {
   "cell_type": "code",
   "execution_count": 58,
   "metadata": {},
   "outputs": [
    {
     "data": {
      "text/plain": [
       "'j'"
      ]
     },
     "execution_count": 58,
     "metadata": {},
     "output_type": "execute_result"
    }
   ],
   "source": [
    "name[0]"
   ]
  },
  {
   "cell_type": "markdown",
   "metadata": {},
   "source": [
    "##### 3. Using slicing make the first letter and concatenating or string formatting turn the first letter of your name in capital"
   ]
  },
  {
   "cell_type": "code",
   "execution_count": 59,
   "metadata": {},
   "outputs": [
    {
     "name": "stdout",
     "output_type": "stream",
     "text": [
      "javi\n"
     ]
    }
   ],
   "source": [
    "name = name[0]\n",
    "name = name + 'avi'\n",
    "print(name)"
   ]
  },
  {
   "cell_type": "markdown",
   "metadata": {},
   "source": [
    "##### 4. Look for a method to make the first letter of a string capital letters and apply to your name"
   ]
  },
  {
   "cell_type": "code",
   "execution_count": 60,
   "metadata": {},
   "outputs": [
    {
     "name": "stdout",
     "output_type": "stream",
     "text": [
      "Javi\n"
     ]
    }
   ],
   "source": [
    "name = name.title()\n",
    "print(name)"
   ]
  },
  {
   "cell_type": "markdown",
   "metadata": {},
   "source": [
    "###### 5. What does your name look the other way around? get it using slicing methods"
   ]
  },
  {
   "cell_type": "code",
   "execution_count": 61,
   "metadata": {},
   "outputs": [
    {
     "name": "stdout",
     "output_type": "stream",
     "text": [
      "ivaJ\n"
     ]
    }
   ],
   "source": [
    "print(name[::-1])"
   ]
  },
  {
   "cell_type": "markdown",
   "metadata": {},
   "source": [
    "###### 6. insert your name and surname into the next string by using string formatting."
   ]
  },
  {
   "cell_type": "code",
   "execution_count": 62,
   "metadata": {},
   "outputs": [
    {
     "name": "stdout",
     "output_type": "stream",
     "text": [
      "my name is : Javi and my suername Chamorro\n"
     ]
    }
   ],
   "source": [
    "'my name is : ___ and my suername ___'\n",
    "\n",
    "xyz = f\"my name is : {name} and my suername {'Chamorro'}\"\n",
    "print(xyz)"
   ]
  },
  {
   "cell_type": "markdown",
   "metadata": {},
   "source": [
    "###### 7. Create a list of words from the next sentence"
   ]
  },
  {
   "cell_type": "code",
   "execution_count": 63,
   "metadata": {},
   "outputs": [],
   "source": [
    "'hello belgrave valley and friends'\n",
    "www = 'hello belgrave valley and friends'\n",
    "www = www.split()"
   ]
  },
  {
   "cell_type": "code",
   "execution_count": 64,
   "metadata": {},
   "outputs": [
    {
     "name": "stdout",
     "output_type": "stream",
     "text": [
      "['hello', 'belgrave', 'valley', 'and', 'friends']\n"
     ]
    }
   ],
   "source": [
    "print(www)"
   ]
  },
  {
   "cell_type": "markdown",
   "metadata": {},
   "source": [
    "###### 8. Make the first letter of every word capital letter"
   ]
  },
  {
   "cell_type": "code",
   "execution_count": 65,
   "metadata": {},
   "outputs": [
    {
     "name": "stdout",
     "output_type": "stream",
     "text": [
      "['Hello', 'Belgrave', 'Valley', 'And', 'Friends']\n"
     ]
    }
   ],
   "source": [
    "w_upper = []\n",
    "for x in www:\n",
    "    x = x.title()\n",
    "    w_upper.append(x)\n",
    "\n",
    "print(w_upper)\n",
    "    "
   ]
  },
  {
   "cell_type": "markdown",
   "metadata": {},
   "source": [
    "###### 9. Create a string from the new list using the .join method"
   ]
  },
  {
   "cell_type": "markdown",
   "metadata": {},
   "source": [
    "text = ['Python', 'is', 'a', 'fun', 'programming', 'language']\n",
    "\n",
    "#join elements of text with space\n",
    "print(' '.join(text))"
   ]
  },
  {
   "cell_type": "code",
   "execution_count": 75,
   "metadata": {},
   "outputs": [
    {
     "name": "stdout",
     "output_type": "stream",
     "text": [
      "Hello Belgrave Valley And Friends\n"
     ]
    }
   ],
   "source": [
    "print(' '.join(w_upper))"
   ]
  },
  {
   "cell_type": "markdown",
   "metadata": {
    "Collapsed": "true",
    "colab_type": "text",
    "id": "IC4TJyvAyH3P"
   },
   "source": [
    "# 2. Lists"
   ]
  },
  {
   "cell_type": "markdown",
   "metadata": {
    "Collapsed": "false"
   },
   "source": [
    "Complete the questions using the following list:"
   ]
  },
  {
   "cell_type": "code",
   "execution_count": 66,
   "metadata": {
    "Collapsed": "false",
    "colab": {},
    "colab_type": "code",
    "id": "4Oua46G1yH3R"
   },
   "outputs": [],
   "source": [
    "mix = [12, 12.2, 'flower', 'a', (1, 2, 3)]"
   ]
  },
  {
   "cell_type": "markdown",
   "metadata": {
    "Collapsed": "true",
    "colab_type": "text",
    "id": "yBqncl4gyH3V"
   },
   "source": [
    "##### 1. add the string 'animal' to mix using .append()"
   ]
  },
  {
   "cell_type": "code",
   "execution_count": 67,
   "metadata": {
    "Collapsed": "false",
    "colab": {},
    "colab_type": "code",
    "id": "xQsL0n9tyH3W"
   },
   "outputs": [],
   "source": [
    "mix.append('animal')"
   ]
  },
  {
   "cell_type": "markdown",
   "metadata": {
    "Collapsed": "true",
    "colab_type": "text",
    "id": "PWUfD-FmyH3Z"
   },
   "source": [
    "##### 2. join the list [1, 2] to mix using .extend()"
   ]
  },
  {
   "cell_type": "code",
   "execution_count": 68,
   "metadata": {
    "Collapsed": "false",
    "colab": {},
    "colab_type": "code",
    "id": "6S0KzbOeyH3a"
   },
   "outputs": [
    {
     "name": "stdout",
     "output_type": "stream",
     "text": [
      "[12, 12.2, 'flower', 'a', (1, 2, 3), 'animal', 1, 2]\n"
     ]
    }
   ],
   "source": [
    "mix.extend([1,2])\n",
    "print(mix)"
   ]
  },
  {
   "cell_type": "markdown",
   "metadata": {
    "Collapsed": "true",
    "colab_type": "text",
    "id": "edTE0NrYyH3d"
   },
   "source": [
    "##### 3. add your name at the 2nd position of the list using .insert(index, your_name)"
   ]
  },
  {
   "cell_type": "code",
   "execution_count": 69,
   "metadata": {
    "Collapsed": "false",
    "colab": {},
    "colab_type": "code",
    "id": "R7xQcigYyH3e"
   },
   "outputs": [
    {
     "name": "stdout",
     "output_type": "stream",
     "text": [
      "[12, 'Javi', 12.2, 'flower', 'a', (1, 2, 3), 'animal', 1, 2]\n"
     ]
    }
   ],
   "source": [
    "mix.insert(1, name)\n",
    "print(mix)"
   ]
  },
  {
   "cell_type": "markdown",
   "metadata": {
    "Collapsed": "true",
    "colab_type": "text",
    "id": "btsFe6PryH3h"
   },
   "source": [
    "##### 4. remove 'flower' from the list using .remove()"
   ]
  },
  {
   "cell_type": "code",
   "execution_count": 76,
   "metadata": {
    "Collapsed": "false",
    "colab": {},
    "colab_type": "code",
    "id": "f-ukKwxlyH3i"
   },
   "outputs": [],
   "source": [
    "mix.remove('flower')"
   ]
  },
  {
   "cell_type": "markdown",
   "metadata": {
    "Collapsed": "true",
    "colab_type": "text",
    "id": "wUZ4NFyUyH3m"
   },
   "source": [
    "##### 5. count the number of times 12 appears in the list using .count()"
   ]
  },
  {
   "cell_type": "code",
   "execution_count": null,
   "metadata": {
    "Collapsed": "false",
    "colab": {},
    "colab_type": "code",
    "id": "yx1IZkMKyH3n"
   },
   "outputs": [],
   "source": []
  },
  {
   "cell_type": "markdown",
   "metadata": {
    "Collapsed": "true",
    "colab_type": "text",
    "id": "9eHUNPWzyH3q"
   },
   "source": [
    "##### 6. find the index integer of your name in the list using .index()"
   ]
  },
  {
   "cell_type": "code",
   "execution_count": null,
   "metadata": {
    "Collapsed": "false",
    "colab": {},
    "colab_type": "code",
    "id": "KK1qy09-yH3r"
   },
   "outputs": [],
   "source": []
  },
  {
   "cell_type": "markdown",
   "metadata": {
    "Collapsed": "true",
    "colab_type": "text",
    "id": "XJurDklLyH3u"
   },
   "source": [
    "##### 7. remove the last element of the list and assign it to a variable with .pop()"
   ]
  },
  {
   "cell_type": "code",
   "execution_count": null,
   "metadata": {
    "Collapsed": "false",
    "colab": {},
    "colab_type": "code",
    "id": "coMd3PCyyH3v"
   },
   "outputs": [],
   "source": []
  },
  {
   "cell_type": "markdown",
   "metadata": {
    "Collapsed": "true",
    "colab_type": "text",
    "id": "kT0UKT8WyH30"
   },
   "source": [
    "##### 8. reverse the order of the elements in the list with .reverse()"
   ]
  },
  {
   "cell_type": "code",
   "execution_count": null,
   "metadata": {
    "Collapsed": "false",
    "colab": {},
    "colab_type": "code",
    "id": "oPHy4oQ0yH31"
   },
   "outputs": [],
   "source": []
  },
  {
   "cell_type": "markdown",
   "metadata": {
    "Collapsed": "true",
    "colab_type": "text",
    "id": "z5URD_ELyH35"
   },
   "source": [
    "##### 9. Create a list of integers and floats and sort it using .sort()"
   ]
  },
  {
   "cell_type": "code",
   "execution_count": null,
   "metadata": {
    "Collapsed": "false",
    "colab": {},
    "colab_type": "code",
    "id": "qJ0CAbbByH37"
   },
   "outputs": [],
   "source": []
  },
  {
   "cell_type": "markdown",
   "metadata": {},
   "source": [
    "##### 10. Get only the values with even index from the list mix"
   ]
  },
  {
   "cell_type": "code",
   "execution_count": null,
   "metadata": {},
   "outputs": [],
   "source": []
  },
  {
   "cell_type": "markdown",
   "metadata": {},
   "source": [
    "##### 11. Get the x from the next lists"
   ]
  },
  {
   "cell_type": "code",
   "execution_count": 70,
   "metadata": {},
   "outputs": [],
   "source": [
    "list_1 = [0,'x',1]\n",
    "list_2 = [0,0,[0,1,2,'x']]\n",
    "list_3 = [0,[0,1,2],[0,[0,0,'x']]]\n",
    "list_4 = [0,[0,1,[0,1,[0,0,[['x']]]]]]"
   ]
  },
  {
   "cell_type": "markdown",
   "metadata": {
    "Collapsed": "true",
    "colab_type": "text",
    "id": "YVHSm6UJyH39"
   },
   "source": [
    "# 3. Foor Loops"
   ]
  },
  {
   "cell_type": "code",
   "execution_count": 71,
   "metadata": {
    "Collapsed": "false",
    "colab": {},
    "colab_type": "code",
    "id": "5In-XgvYyH3-"
   },
   "outputs": [],
   "source": [
    "numbers = [2,3,55,6,0.7,33,2,6765,80006]"
   ]
  },
  {
   "cell_type": "markdown",
   "metadata": {
    "Collapsed": "true",
    "colab_type": "text",
    "id": "8bsy0de8yH4B"
   },
   "source": [
    "##### 1. Print each number within the list"
   ]
  },
  {
   "cell_type": "code",
   "execution_count": 77,
   "metadata": {
    "Collapsed": "false",
    "colab": {},
    "colab_type": "code",
    "id": "RlWmavZDyH4C"
   },
   "outputs": [
    {
     "name": "stdout",
     "output_type": "stream",
     "text": [
      "2\n",
      "3\n",
      "55\n",
      "6\n",
      "0.7\n",
      "33\n",
      "2\n",
      "6765\n",
      "80006\n"
     ]
    }
   ],
   "source": [
    "for x in numbers:\n",
    "    print(x)"
   ]
  },
  {
   "cell_type": "markdown",
   "metadata": {
    "Collapsed": "true",
    "colab_type": "text",
    "id": "XvU8JKebyH4E"
   },
   "source": [
    "##### 2. Substract 20 to each elemens in the list and append it to a new list."
   ]
  },
  {
   "cell_type": "code",
   "execution_count": 79,
   "metadata": {
    "Collapsed": "false",
    "colab": {},
    "colab_type": "code",
    "id": "Gz-H0x3ayH4F"
   },
   "outputs": [
    {
     "name": "stdout",
     "output_type": "stream",
     "text": [
      "[-18, -17, 35, -14, -19.3, 13, -18, 6745, 79986]\n"
     ]
    }
   ],
   "source": [
    "new_list = []\n",
    "for x in numbers:\n",
    "    new = x-20\n",
    "    new_list.append(new)\n",
    "print (new_list)"
   ]
  },
  {
   "cell_type": "markdown",
   "metadata": {
    "Collapsed": "true",
    "colab_type": "text",
    "id": "DSnV7t0myH4I"
   },
   "source": [
    "##### 3. Multiply each element in the list from the previous exercise by 3 and append it to a new list."
   ]
  },
  {
   "cell_type": "code",
   "execution_count": 81,
   "metadata": {
    "Collapsed": "false",
    "colab": {},
    "colab_type": "code",
    "id": "27_edCgFyH4I"
   },
   "outputs": [
    {
     "name": "stdout",
     "output_type": "stream",
     "text": [
      "[-54, -51, 105, -42, -57.900000000000006, 39, -54, 20235, 239958]\n"
     ]
    }
   ],
   "source": [
    "new_list_2 = []\n",
    "for x in new_list:\n",
    "    new = x*3\n",
    "    new_list_2.append(new)\n",
    "print (new_list_2)"
   ]
  },
  {
   "cell_type": "markdown",
   "metadata": {
    "Collapsed": "true",
    "colab_type": "text",
    "id": "FmoN5UbOyH4L"
   },
   "source": [
    "##### 4. Divide each element in the list from the previous exercise by 6 and append it to a new list."
   ]
  },
  {
   "cell_type": "code",
   "execution_count": 82,
   "metadata": {
    "Collapsed": "false",
    "colab": {},
    "colab_type": "code",
    "id": "zWMEEMYEyH4M"
   },
   "outputs": [
    {
     "name": "stdout",
     "output_type": "stream",
     "text": [
      "[-9.0, -8.5, 17.5, -7.0, -9.65, 6.5, -9.0, 3372.5, 39993.0]\n"
     ]
    }
   ],
   "source": [
    "new_list_3 = []\n",
    "for x in new_list_2:\n",
    "    new = x/6\n",
    "    new_list_3.append(new)\n",
    "print (new_list_3)"
   ]
  },
  {
   "cell_type": "markdown",
   "metadata": {
    "Collapsed": "true",
    "colab_type": "text",
    "id": "uIb0WT-cyH4Q"
   },
   "source": [
    "##### 5. Apply and exponential/power of 2 to each element in the list from the previous exercise and append it to a new list."
   ]
  },
  {
   "cell_type": "code",
   "execution_count": 83,
   "metadata": {
    "Collapsed": "false",
    "colab": {},
    "colab_type": "code",
    "id": "-HKj3kffyH4R"
   },
   "outputs": [
    {
     "name": "stdout",
     "output_type": "stream",
     "text": [
      "[81.0, 72.25, 306.25, 49.0, 93.1225, 42.25, 81.0, 11373756.25, 1599440049.0]\n"
     ]
    }
   ],
   "source": [
    "new_list_4 = []\n",
    "for x in new_list_3:\n",
    "    new = x**2\n",
    "    new_list_4.append(new)\n",
    "print (new_list_4)"
   ]
  }
 ],
 "metadata": {
  "colab": {
   "collapsed_sections": [],
   "name": "Day 1 - Exercises.ipynb",
   "provenance": [],
   "version": "0.3.2"
  },
  "kernelspec": {
   "display_name": "Python 3 (ipykernel)",
   "language": "python",
   "name": "python3"
  },
  "language_info": {
   "codemirror_mode": {
    "name": "ipython",
    "version": 3
   },
   "file_extension": ".py",
   "mimetype": "text/x-python",
   "name": "python",
   "nbconvert_exporter": "python",
   "pygments_lexer": "ipython3",
   "version": "3.9.7"
  }
 },
 "nbformat": 4,
 "nbformat_minor": 4
}
