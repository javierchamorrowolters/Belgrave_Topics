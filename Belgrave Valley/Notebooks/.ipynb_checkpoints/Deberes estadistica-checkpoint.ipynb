{
 "cells": [
  {
   "cell_type": "code",
   "execution_count": 236,
   "id": "570aa04b",
   "metadata": {},
   "outputs": [],
   "source": [
    "import pandas as pd\n",
    "import numpy as np\n",
    "import random\n",
    "import matplotlib.pyplot as plt"
   ]
  },
  {
   "cell_type": "markdown",
   "id": "cea3e1f3",
   "metadata": {},
   "source": [
    "Tirar una moneda 700 veces y sacar 400 caras\n",
    "1. Test Statistic\n",
    "2. Null Hypothesis\n",
    "3. Pvalue\n",
    "4. Statistically Significant"
   ]
  },
  {
   "cell_type": "code",
   "execution_count": 237,
   "id": "13e09025",
   "metadata": {},
   "outputs": [],
   "source": [
    "def lanzar_moneda(x=700):\n",
    "    resultado = []\n",
    "    for _ in range(x):\n",
    "        #(sacar un 1 es cara)\n",
    "        resultado.append(int(random.choice('10')))\n",
    "    #test statistic la suma de caras\n",
    "    return sum(resultado)\n"
   ]
  },
  {
   "cell_type": "code",
   "execution_count": 238,
   "id": "b73d808a",
   "metadata": {},
   "outputs": [],
   "source": [
    "lista_sumas = []\n",
    "for x in range(1000):\n",
    "    lista_sumas.append(lanzar_moneda())"
   ]
  },
  {
   "cell_type": "code",
   "execution_count": 239,
   "id": "71dfd811",
   "metadata": {},
   "outputs": [
    {
     "data": {
      "text/plain": [
       "387"
      ]
     },
     "execution_count": 239,
     "metadata": {},
     "output_type": "execute_result"
    }
   ],
   "source": [
    "max(lista_sumas)"
   ]
  },
  {
   "cell_type": "code",
   "execution_count": 249,
   "id": "0a07988d",
   "metadata": {},
   "outputs": [
    {
     "name": "stdout",
     "output_type": "stream",
     "text": [
      "Pvalue  0.0 %\n"
     ]
    }
   ],
   "source": [
    "mayores = 0\n",
    "for x in lista_sumas:\n",
    "    if x>400:\n",
    "        mayores += 1\n",
    "print('Pvalue ',mayores/len(lista_sumas), '%')"
   ]
  },
  {
   "cell_type": "markdown",
   "id": "cb3c58fb",
   "metadata": {},
   "source": [
    "Since the Pvalue is under 5% it is statistically significant. The coin is biased.\n",
    "We have carried out the experiment 1000 times under the null hypothesis and not a single time have we got 400 heads."
   ]
  },
  {
   "cell_type": "code",
   "execution_count": 241,
   "id": "bc726b97",
   "metadata": {},
   "outputs": [],
   "source": [
    "def dados_3_veces():\n",
    "    result = []\n",
    "    for _ in range(100):\n",
    "        suma_dados = 0\n",
    "        for _ in range(3):\n",
    "            suma_dados += int(random.choice('123456'))\n",
    "        result.append(suma_dados)\n",
    "            #test statistic la suma de los 3 dados tirados 100 veces\n",
    "    return sum(result)"
   ]
  },
  {
   "cell_type": "code",
   "execution_count": 242,
   "id": "3e4d3951",
   "metadata": {},
   "outputs": [
    {
     "data": {
      "text/plain": [
       "1012"
      ]
     },
     "execution_count": 242,
     "metadata": {},
     "output_type": "execute_result"
    }
   ],
   "source": [
    "dados_3_veces()"
   ]
  },
  {
   "cell_type": "code",
   "execution_count": 243,
   "id": "4d782e63",
   "metadata": {},
   "outputs": [],
   "source": [
    "result_list = []\n",
    "for _ in range(1000):\n",
    "    result_list.append(dados_3_veces())"
   ]
  },
  {
   "cell_type": "code",
   "execution_count": 244,
   "id": "bcaf6e71",
   "metadata": {},
   "outputs": [
    {
     "data": {
      "text/plain": [
       "951"
      ]
     },
     "execution_count": 244,
     "metadata": {},
     "output_type": "execute_result"
    }
   ],
   "source": [
    "min(result_list)"
   ]
  },
  {
   "cell_type": "code",
   "execution_count": 245,
   "id": "dfa98843",
   "metadata": {},
   "outputs": [
    {
     "data": {
      "text/plain": [
       "1174"
      ]
     },
     "execution_count": 245,
     "metadata": {},
     "output_type": "execute_result"
    }
   ],
   "source": [
    "max(result_list)"
   ]
  },
  {
   "cell_type": "code",
   "execution_count": 248,
   "id": "717c253d",
   "metadata": {},
   "outputs": [
    {
     "name": "stdout",
     "output_type": "stream",
     "text": [
      "Pvalue  3.5999999999999996 %\n"
     ]
    }
   ],
   "source": [
    "mayores = 0\n",
    "for x in result_list:\n",
    "    if x>=1100:\n",
    "        mayores +=1\n",
    "print('Pvalue ', mayores/len(result_list)*100, '%')"
   ]
  },
  {
   "cell_type": "markdown",
   "id": "acc67525",
   "metadata": {},
   "source": [
    "Since the Pvalue is under 5% it is statistically significant. The dice are biased(at least one of them).\n",
    "We have carried out the experiment 1000 times under the null hypothesis and not in even 5% of the times have we got\n",
    "a value as extreme or more than 1100 (sum of the result of 3 dice thrown 100 times)"
   ]
  },
  {
   "cell_type": "code",
   "execution_count": 247,
   "id": "8ff7b8ee",
   "metadata": {},
   "outputs": [
    {
     "data": {
      "image/png": "[encoded data removed]",
      "text/plain": [
       "<Figure size 432x288 with 1 Axes>"
      ]
     },
     "metadata": {
      "needs_background": "light"
     },
     "output_type": "display_data"
    }
   ],
   "source": [
    "plt.hist(result_list)\n",
    "plt.show()"
   ]
  }
 ],
 "metadata": {
  "kernelspec": {
   "display_name": "Python 3 (ipykernel)",
   "language": "python",
   "name": "python3"
  },
  "language_info": {
   "codemirror_mode": {
    "name": "ipython",
    "version": 3
   },
   "file_extension": ".py",
   "mimetype": "text/x-python",
   "name": "python",
   "nbconvert_exporter": "python",
   "pygments_lexer": "ipython3",
   "version": "3.9.7"
  }
 },
 "nbformat": 4,
 "nbformat_minor": 5
}
