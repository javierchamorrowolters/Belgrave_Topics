{
 "cells": [
  {
   "cell_type": "markdown",
   "metadata": {
    "Collapsed": "false",
    "colab_type": "text",
    "id": "Fgalm2gqwYMx"
   },
   "source": [
    "<img src=\"https://user-images.strikinglycdn.com/res/hrscywv4p/image/upload/c_limit,fl_lossy,h_300,w_300,f_auto,q_auto/1266110/Logo_wzxi0f.png\" style=\"float: left; margin: 20px; height: 55px\">\n",
    "\n"
   ]
  },
  {
   "cell_type": "markdown",
   "metadata": {
    "Collapsed": "true",
    "colab_type": "text",
    "id": "_K0zI4UxZip5"
   },
   "source": [
    "## Useful Operators"
   ]
  },
  {
   "cell_type": "markdown",
   "metadata": {
    "Collapsed": "true",
    "colab_type": "text",
    "id": "AJV4LLTMZip6"
   },
   "source": [
    "#### 1. Print first 5 numbers using range function"
   ]
  },
  {
   "cell_type": "code",
   "execution_count": 4,
   "metadata": {
    "Collapsed": "false"
   },
   "outputs": [
    {
     "name": "stdout",
     "output_type": "stream",
     "text": [
      "[1, 2, 3, 4, 5]\n"
     ]
    }
   ],
   "source": [
    "r = list(range(1,6))\n",
    "print(r)"
   ]
  },
  {
   "cell_type": "markdown",
   "metadata": {
    "Collapsed": "true",
    "colab_type": "text",
    "id": "8ogEzNmBZiqB"
   },
   "source": [
    "#### 2. Print integers within given start and stop number using range() function"
   ]
  },
  {
   "cell_type": "code",
   "execution_count": 7,
   "metadata": {
    "Collapsed": "false"
   },
   "outputs": [
    {
     "data": {
      "text/plain": [
       "[0, 1, 2, 3, 4]"
      ]
     },
     "execution_count": 7,
     "metadata": {},
     "output_type": "execute_result"
    }
   ],
   "source": [
    "list(range(5))"
   ]
  },
  {
   "cell_type": "markdown",
   "metadata": {
    "Collapsed": "true",
    "colab_type": "text",
    "id": "a5fei06-ZiqG"
   },
   "source": [
    "#### 3. Create a list of integers between 100 and 126 included"
   ]
  },
  {
   "cell_type": "code",
   "execution_count": 8,
   "metadata": {
    "Collapsed": "false"
   },
   "outputs": [
    {
     "data": {
      "text/plain": [
       "[100,\n",
       " 101,\n",
       " 102,\n",
       " 103,\n",
       " 104,\n",
       " 105,\n",
       " 106,\n",
       " 107,\n",
       " 108,\n",
       " 109,\n",
       " 110,\n",
       " 111,\n",
       " 112,\n",
       " 113,\n",
       " 114,\n",
       " 115,\n",
       " 116,\n",
       " 117,\n",
       " 118,\n",
       " 119,\n",
       " 120,\n",
       " 121,\n",
       " 122,\n",
       " 123,\n",
       " 124,\n",
       " 125,\n",
       " 126]"
      ]
     },
     "execution_count": 8,
     "metadata": {},
     "output_type": "execute_result"
    }
   ],
   "source": [
    "list(range(100,127))"
   ]
  },
  {
   "cell_type": "markdown",
   "metadata": {
    "Collapsed": "true",
    "colab_type": "text",
    "id": "HlL7ZhY0ZiqK"
   },
   "source": [
    "#### 4.Print all odd numbers between 23 and 64 using range()"
   ]
  },
  {
   "cell_type": "code",
   "execution_count": 9,
   "metadata": {
    "Collapsed": "false"
   },
   "outputs": [
    {
     "data": {
      "text/plain": [
       "[23,\n",
       " 25,\n",
       " 27,\n",
       " 29,\n",
       " 31,\n",
       " 33,\n",
       " 35,\n",
       " 37,\n",
       " 39,\n",
       " 41,\n",
       " 43,\n",
       " 45,\n",
       " 47,\n",
       " 49,\n",
       " 51,\n",
       " 53,\n",
       " 55,\n",
       " 57,\n",
       " 59,\n",
       " 61,\n",
       " 63]"
      ]
     },
     "execution_count": 9,
     "metadata": {},
     "output_type": "execute_result"
    }
   ],
   "source": [
    "list(range(23,65,2))"
   ]
  },
  {
   "cell_type": "markdown",
   "metadata": {
    "Collapsed": "true",
    "colab_type": "text",
    "id": "EvY5VKYOZiqP"
   },
   "source": [
    "#### 5. Create a list with all the even numbers between 80 and 124 included."
   ]
  },
  {
   "cell_type": "code",
   "execution_count": 10,
   "metadata": {
    "Collapsed": "false"
   },
   "outputs": [
    {
     "data": {
      "text/plain": [
       "[80,\n",
       " 82,\n",
       " 84,\n",
       " 86,\n",
       " 88,\n",
       " 90,\n",
       " 92,\n",
       " 94,\n",
       " 96,\n",
       " 98,\n",
       " 100,\n",
       " 102,\n",
       " 104,\n",
       " 106,\n",
       " 108,\n",
       " 110,\n",
       " 112,\n",
       " 114,\n",
       " 116,\n",
       " 118,\n",
       " 120,\n",
       " 122,\n",
       " 124]"
      ]
     },
     "execution_count": 10,
     "metadata": {},
     "output_type": "execute_result"
    }
   ],
   "source": [
    "list(range(80,125,2))"
   ]
  },
  {
   "cell_type": "markdown",
   "metadata": {
    "Collapsed": "true",
    "colab_type": "text",
    "id": "bt7jvMkDZiqU"
   },
   "source": [
    "#### 6. Use enumerate to return the elemnts from the list where their index is greater than 3. Add them to a new list."
   ]
  },
  {
   "cell_type": "code",
   "execution_count": 12,
   "metadata": {
    "Collapsed": "false",
    "colab": {},
    "colab_type": "code",
    "id": "Od07rWGUZiqV"
   },
   "outputs": [],
   "source": [
    "names = ['Pol','Tabixe','Pablo','Paco','Adri','Hector','Manu','Carlos','Ibrahim','Javier','Jesus']"
   ]
  },
  {
   "cell_type": "code",
   "execution_count": 13,
   "metadata": {
    "Collapsed": "false"
   },
   "outputs": [
    {
     "name": "stdout",
     "output_type": "stream",
     "text": [
      "['Adri', 'Hector', 'Manu', 'Carlos', 'Ibrahim', 'Javier', 'Jesus']\n"
     ]
    }
   ],
   "source": [
    "new_names = []\n",
    "\n",
    "for x, y in enumerate(names):\n",
    "    if x > 3:\n",
    "        new_names.append(y)\n",
    "\n",
    "print(new_names)\n",
    "    "
   ]
  },
  {
   "cell_type": "markdown",
   "metadata": {
    "Collapsed": "true",
    "colab_type": "text",
    "id": "vEjbqf7IZiqb"
   },
   "source": [
    "#### 7. Use enumerate to substract 2 to the numbers in the list that have and even index. Return the same list updated."
   ]
  },
  {
   "cell_type": "code",
   "execution_count": 14,
   "metadata": {
    "Collapsed": "false",
    "colab": {},
    "colab_type": "code",
    "id": "pL2qTd0yZiqc"
   },
   "outputs": [],
   "source": [
    "numbers = [2,44,564,0.3,45,6/7,9,15]"
   ]
  },
  {
   "cell_type": "code",
   "execution_count": 19,
   "metadata": {
    "Collapsed": "false"
   },
   "outputs": [
    {
     "name": "stdout",
     "output_type": "stream",
     "text": [
      "[0, 44, 562, 0.3, 43, 0.8571428571428571, 7, 15]\n"
     ]
    }
   ],
   "source": [
    "for x, y in enumerate(numbers):\n",
    "    if x % 2 == 0:\n",
    "        numbers[x]= y - 2\n",
    "        \n",
    "\n",
    "print(numbers)"
   ]
  },
  {
   "cell_type": "markdown",
   "metadata": {
    "Collapsed": "true",
    "colab_type": "text",
    "id": "oJA9RSTuZiqk"
   },
   "source": [
    "#### 8. Use zip to group each variable on the following list based on their index"
   ]
  },
  {
   "cell_type": "code",
   "execution_count": 21,
   "metadata": {
    "Collapsed": "false",
    "colab": {},
    "colab_type": "code",
    "id": "ZogobII7Ziql"
   },
   "outputs": [],
   "source": [
    "list1 = [15,2.5,3/6,334,5]\n",
    "list2 = ['t','n','o','a','e']"
   ]
  },
  {
   "cell_type": "code",
   "execution_count": 25,
   "metadata": {
    "Collapsed": "false"
   },
   "outputs": [
    {
     "data": {
      "text/plain": [
       "[(15, 't'), (2.5, 'n'), (0.5, 'o'), (334, 'a'), (5, 'e')]"
      ]
     },
     "execution_count": 25,
     "metadata": {},
     "output_type": "execute_result"
    }
   ],
   "source": [
    "list(zip(list1,list2))\n"
   ]
  },
  {
   "cell_type": "markdown",
   "metadata": {
    "Collapsed": "true",
    "colab_type": "text",
    "id": "598DWM83Ziqs"
   },
   "source": [
    "#### 9. Write a program which returns does elements that appear in both lists. Add them to a new list and sort it descending."
   ]
  },
  {
   "cell_type": "code",
   "execution_count": 27,
   "metadata": {
    "Collapsed": "false",
    "colab": {},
    "colab_type": "code",
    "id": "yWRMdHrsZiqt"
   },
   "outputs": [],
   "source": [
    "alpha = [6,7,33,6.5,908.9,34,2*2]\n",
    "beta = [4,32,66,7,12+22]"
   ]
  },
  {
   "cell_type": "code",
   "execution_count": 31,
   "metadata": {
    "Collapsed": "false"
   },
   "outputs": [
    {
     "name": "stdout",
     "output_type": "stream",
     "text": [
      "[7, 34, 4]\n"
     ]
    }
   ],
   "source": [
    "repeated = []\n",
    "\n",
    "for x in alpha:\n",
    "    if x in beta:\n",
    "        repeated.append(x)\n",
    "        \n",
    "print(repeated)"
   ]
  },
  {
   "cell_type": "markdown",
   "metadata": {
    "Collapsed": "true",
    "colab_type": "text",
    "id": "NoevBrfwZiq0"
   },
   "source": [
    "#### 10. Write a program which returns a list with does elements in the first list that match the length of the elements in the second list."
   ]
  },
  {
   "cell_type": "code",
   "execution_count": 32,
   "metadata": {
    "Collapsed": "false",
    "colab": {},
    "colab_type": "code",
    "id": "cjsvpaEoZiq0"
   },
   "outputs": [],
   "source": [
    "bv = ['Pol','Tabixe','Pablo','Paco','Adri','Hector','Manu','Carlos','Ibrahim','Javier','Jesus']\n",
    "bv_num = [2,3,67,5,1,0]"
   ]
  },
  {
   "cell_type": "code",
   "execution_count": 35,
   "metadata": {
    "Collapsed": "false"
   },
   "outputs": [
    {
     "data": {
      "text/plain": [
       "'Hector'"
      ]
     },
     "execution_count": 35,
     "metadata": {},
     "output_type": "execute_result"
    }
   ],
   "source": [
    "elem = []\n",
    "\n",
    "bv[int(len(bv_num))-1]\n",
    "\n",
    "    "
   ]
  },
  {
   "cell_type": "markdown",
   "metadata": {
    "Collapsed": "true",
    "colab_type": "text",
    "id": "RQW2SndZZiq7"
   },
   "source": [
    "#### 11. Print a random number from a range between 100 and 4000."
   ]
  },
  {
   "cell_type": "code",
   "execution_count": 39,
   "metadata": {
    "Collapsed": "false"
   },
   "outputs": [
    {
     "data": {
      "text/plain": [
       "2291"
      ]
     },
     "execution_count": 39,
     "metadata": {},
     "output_type": "execute_result"
    }
   ],
   "source": [
    "from random import randint\n",
    "randint(100,4001)"
   ]
  },
  {
   "cell_type": "markdown",
   "metadata": {
    "Collapsed": "true",
    "colab_type": "text",
    "id": "LlLt-n_KZirL"
   },
   "source": [
    "#### 12. Print a shuffled version of the list provided."
   ]
  },
  {
   "cell_type": "code",
   "execution_count": 41,
   "metadata": {
    "Collapsed": "false",
    "colab": {},
    "colab_type": "code",
    "id": "yKheILePZirN"
   },
   "outputs": [],
   "source": [
    "numbers2 = [2,44,564,0.3,45,6/7,9,15]"
   ]
  },
  {
   "cell_type": "code",
   "execution_count": 44,
   "metadata": {
    "Collapsed": "false"
   },
   "outputs": [
    {
     "name": "stdout",
     "output_type": "stream",
     "text": [
      "[9, 0.3, 0.8571428571428571, 15, 44, 2, 564, 45]\n"
     ]
    }
   ],
   "source": [
    "from random import shuffle\n",
    "shuffle(numbers2)\n",
    "print(numbers2)"
   ]
  },
  {
   "cell_type": "markdown",
   "metadata": {
    "Collapsed": "true",
    "colab_type": "text",
    "id": "xz2VoqgCZirY"
   },
   "source": [
    "#### 13. Print an even random number between 0 and 10."
   ]
  },
  {
   "cell_type": "code",
   "execution_count": 71,
   "metadata": {
    "Collapsed": "false"
   },
   "outputs": [
    {
     "name": "stdout",
     "output_type": "stream",
     "text": [
      "8\n"
     ]
    }
   ],
   "source": [
    "var = range(0,11,2)\n",
    "for x in var:\n",
    "    y = randint(0,10)\n",
    "    if y%2==0:\n",
    "        print(y)\n",
    "        break"
   ]
  },
  {
   "cell_type": "markdown",
   "metadata": {
    "Collapsed": "true",
    "colab_type": "text",
    "id": "UA9MiMocZirb"
   },
   "source": [
    "#### 14. Print a random element from a list"
   ]
  },
  {
   "cell_type": "code",
   "execution_count": 72,
   "metadata": {
    "Collapsed": "false"
   },
   "outputs": [
    {
     "name": "stdout",
     "output_type": "stream",
     "text": [
      "0.8571428571428571\n"
     ]
    }
   ],
   "source": [
    "shuffle(numbers2)\n",
    "print(numbers2[0])"
   ]
  },
  {
   "cell_type": "markdown",
   "metadata": {
    "Collapsed": "true",
    "colab_type": "text",
    "id": "uSH7GeV0Zirf"
   },
   "source": [
    "#### 15. Print a sample of 4 numbers from the list provided"
   ]
  },
  {
   "cell_type": "code",
   "execution_count": 73,
   "metadata": {
    "Collapsed": "false",
    "colab": {},
    "colab_type": "code",
    "id": "T0GwlEwWZirg"
   },
   "outputs": [],
   "source": [
    "sample = [2,5,8,9,12,66,32,56,554]"
   ]
  },
  {
   "cell_type": "code",
   "execution_count": 74,
   "metadata": {},
   "outputs": [
    {
     "name": "stdout",
     "output_type": "stream",
     "text": [
      "[9, 8, 32, 56]\n"
     ]
    }
   ],
   "source": [
    "shuffle(sample)\n",
    "print(sample[:4])"
   ]
  },
  {
   "cell_type": "markdown",
   "metadata": {
    "Collapsed": "true",
    "colab_type": "text",
    "id": "jJQMcyNsZirl"
   },
   "source": [
    "#### 16. Create a program that asks for you name"
   ]
  },
  {
   "cell_type": "code",
   "execution_count": 75,
   "metadata": {},
   "outputs": [
    {
     "name": "stdout",
     "output_type": "stream",
     "text": [
      "please enter your namejjj\n"
     ]
    },
    {
     "data": {
      "text/plain": [
       "'jjj'"
      ]
     },
     "execution_count": 75,
     "metadata": {},
     "output_type": "execute_result"
    }
   ],
   "source": [
    "input('please enter your name')"
   ]
  },
  {
   "cell_type": "markdown",
   "metadata": {
    "Collapsed": "true",
    "colab_type": "text",
    "id": "2EdnKIL3Zirp"
   },
   "source": [
    "#### 17. Create a program that asks for you name, age, location and returns the following output: Hi my name is _name_, I am _age_ years old and I live in _location_. Use any of the formatting you saw on day 1."
   ]
  },
  {
   "cell_type": "code",
   "execution_count": 78,
   "metadata": {},
   "outputs": [
    {
     "name": "stdout",
     "output_type": "stream",
     "text": [
      "name?r\n",
      "age?r\n",
      "location?r\n",
      "Hi my name is r, I am r years old and I live in r\n"
     ]
    }
   ],
   "source": [
    "name = input('name?')\n",
    "age = input('age?')\n",
    "location = input('location?')\n",
    "\n",
    "print(f\"Hi my name is {name}, I am {age} years old and I live in {location}\")"
   ]
  },
  {
   "cell_type": "markdown",
   "metadata": {
    "Collapsed": "true",
    "colab_type": "text",
    "id": "xmgAnQpOZirv"
   },
   "source": [
    "#### 18. Create a program that asks for you name, age and returns the year were you will be 100 years old. "
   ]
  },
  {
   "cell_type": "code",
   "execution_count": null,
   "metadata": {},
   "outputs": [],
   "source": []
  },
  {
   "cell_type": "markdown",
   "metadata": {
    "Collapsed": "true",
    "colab_type": "text",
    "id": "j_L82f27Zir2"
   },
   "source": [
    "#### 19. Write a single function called suma that returns the sum of the following examples withoug using more than one variable. Use *args"
   ]
  },
  {
   "cell_type": "code",
   "execution_count": 79,
   "metadata": {
    "Collapsed": "false",
    "colab": {},
    "colab_type": "code",
    "id": "sSqGe-j5Zir4",
    "outputId": "4c7488b9-23be-4275-b31c-6e4095b47a66"
   },
   "outputs": [
    {
     "data": {
      "text/plain": [
       "(1, 2, 3, 5, 6)"
      ]
     },
     "execution_count": 79,
     "metadata": {},
     "output_type": "execute_result"
    }
   ],
   "source": [
    "(3,5)\n",
    "(4,5,6,7)\n",
    "(1,2,3,5,6)"
   ]
  },
  {
   "cell_type": "code",
   "execution_count": 80,
   "metadata": {},
   "outputs": [
    {
     "data": {
      "text/plain": [
       "17"
      ]
     },
     "execution_count": 80,
     "metadata": {},
     "output_type": "execute_result"
    }
   ],
   "source": [
    "def suma(*args):\n",
    "    return sum(args)\n",
    "suma(3,5)\n",
    "suma(4,5,6,7)\n",
    "suma(1,2,3,5,6)"
   ]
  },
  {
   "cell_type": "markdown",
   "metadata": {
    "Collapsed": "true",
    "colab_type": "text",
    "id": "e1FjEhX3ZisA"
   },
   "source": [
    "#### 20. Write a single function called multi_suma that returns the following. Use *args."
   ]
  },
  {
   "cell_type": "markdown",
   "metadata": {
    "Collapsed": "false",
    "colab_type": "text",
    "id": "CwezudDTZisB"
   },
   "source": [
    " - multi_suma(2,3,5) = ((2x3)+(2x5)) = 16\n",
    " - multi_suma(2,3,5,5) = ((2x3)+(2x5)+(2x5)) = 26\n",
    " - multi_suma(2,55,2,9) = ((2x55)+(2x5)+(2x9)) = 132"
   ]
  },
  {
   "cell_type": "code",
   "execution_count": null,
   "metadata": {
    "Collapsed": "false",
    "colab": {},
    "colab_type": "code",
    "id": "ng-bq7VNZisJ"
   },
   "outputs": [],
   "source": []
  }
 ],
 "metadata": {
  "colab": {
   "collapsed_sections": [],
   "name": "Day 4 - Exercises.ipynb",
   "provenance": [],
   "version": "0.3.2"
  },
  "kernelspec": {
   "display_name": "Python 3 (ipykernel)",
   "language": "python",
   "name": "python3"
  },
  "language_info": {
   "codemirror_mode": {
    "name": "ipython",
    "version": 3
   },
   "file_extension": ".py",
   "mimetype": "text/x-python",
   "name": "python",
   "nbconvert_exporter": "python",
   "pygments_lexer": "ipython3",
   "version": "3.9.7"
  }
 },
 "nbformat": 4,
 "nbformat_minor": 4
}
